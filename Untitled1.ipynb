{
 "cells": [
  {
   "cell_type": "code",
   "execution_count": 1,
   "id": "cbc86ac0",
   "metadata": {},
   "outputs": [],
   "source": [
    "import pandas as pd\n",
    "import numpy as np\n",
    "import sklearn\n",
    "import scipy\n",
    "import matplotlib as mpl\n",
    "import matplotlib.pyplot as plt\n",
    "import seaborn as sns\n",
    "\n",
    "df = pd.read_csv(\"./open/train.csv\")\n",
    "test = pd.read_csv(\"./open/test.csv\")\n",
    "\n",
    "df_type = pd.DataFrame(df.dtypes)\n",
    "objects = []\n",
    "floats = []\n",
    "for i in df_type.index:\n",
    "    if df_type.loc[i, 0]== 'object':\n",
    "        objects.append(i)\n",
    "    else:\n",
    "        floats.append(i)"
   ]
  },
  {
   "cell_type": "code",
   "execution_count": 2,
   "id": "bfeb4c9c",
   "metadata": {},
   "outputs": [
    {
     "data": {
      "text/plain": [
       "['TARGET',\n",
       " 'new',\n",
       " 'quality',\n",
       " 'duration',\n",
       " 'bounced',\n",
       " 'transaction',\n",
       " 'transaction_revenue']"
      ]
     },
     "execution_count": 2,
     "metadata": {},
     "output_type": "execute_result"
    }
   ],
   "source": [
    "floats"
   ]
  },
  {
   "cell_type": "code",
   "execution_count": 3,
   "id": "aa0dad9a",
   "metadata": {},
   "outputs": [
    {
     "data": {
      "text/plain": [
       "<Axes: xlabel='TARGET', ylabel='Count'>"
      ]
     },
     "execution_count": 3,
     "metadata": {},
     "output_type": "execute_result"
    },
    {
     "data": {
      "image/png": "[encoded data removed]",
      "text/plain": [
       "<Figure size 640x480 with 1 Axes>"
      ]
     },
     "metadata": {},
     "output_type": "display_data"
    }
   ],
   "source": [
    "sns.histplot(df['TARGET'])"
   ]
  },
  {
   "cell_type": "code",
   "execution_count": 5,
   "id": "0889270b",
   "metadata": {},
   "outputs": [
    {
     "data": {
      "text/html": [
       "<div>\n",
       "<style scoped>\n",
       "    .dataframe tbody tr th:only-of-type {\n",
       "        vertical-align: middle;\n",
       "    }\n",
       "\n",
       "    .dataframe tbody tr th {\n",
       "        vertical-align: top;\n",
       "    }\n",
       "\n",
       "    .dataframe thead th {\n",
       "        text-align: right;\n",
       "    }\n",
       "</style>\n",
       "<table border=\"1\" class=\"dataframe\">\n",
       "  <thead>\n",
       "    <tr style=\"text-align: right;\">\n",
       "      <th></th>\n",
       "      <th>TARGET</th>\n",
       "      <th>new</th>\n",
       "      <th>quality</th>\n",
       "      <th>duration</th>\n",
       "      <th>bounced</th>\n",
       "      <th>transaction</th>\n",
       "      <th>transaction_revenue</th>\n",
       "    </tr>\n",
       "  </thead>\n",
       "  <tbody>\n",
       "    <tr>\n",
       "      <th>count</th>\n",
       "      <td>252289.000000</td>\n",
       "      <td>252289.000000</td>\n",
       "      <td>252289.000000</td>\n",
       "      <td>252289.000000</td>\n",
       "      <td>252289.000000</td>\n",
       "      <td>252289.000000</td>\n",
       "      <td>2.522890e+05</td>\n",
       "    </tr>\n",
       "    <tr>\n",
       "      <th>mean</th>\n",
       "      <td>3.592626</td>\n",
       "      <td>0.751955</td>\n",
       "      <td>3.816805</td>\n",
       "      <td>113.104253</td>\n",
       "      <td>0.493672</td>\n",
       "      <td>0.009033</td>\n",
       "      <td>9.061248e+05</td>\n",
       "    </tr>\n",
       "    <tr>\n",
       "      <th>std</th>\n",
       "      <td>5.509465</td>\n",
       "      <td>0.431879</td>\n",
       "      <td>11.091028</td>\n",
       "      <td>330.876019</td>\n",
       "      <td>0.499961</td>\n",
       "      <td>0.100938</td>\n",
       "      <td>2.127689e+07</td>\n",
       "    </tr>\n",
       "    <tr>\n",
       "      <th>min</th>\n",
       "      <td>1.000000</td>\n",
       "      <td>0.000000</td>\n",
       "      <td>1.000000</td>\n",
       "      <td>0.000000</td>\n",
       "      <td>0.000000</td>\n",
       "      <td>0.000000</td>\n",
       "      <td>0.000000e+00</td>\n",
       "    </tr>\n",
       "    <tr>\n",
       "      <th>25%</th>\n",
       "      <td>1.000000</td>\n",
       "      <td>1.000000</td>\n",
       "      <td>1.000000</td>\n",
       "      <td>0.000000</td>\n",
       "      <td>0.000000</td>\n",
       "      <td>0.000000</td>\n",
       "      <td>0.000000e+00</td>\n",
       "    </tr>\n",
       "    <tr>\n",
       "      <th>50%</th>\n",
       "      <td>2.000000</td>\n",
       "      <td>1.000000</td>\n",
       "      <td>1.000000</td>\n",
       "      <td>3.000000</td>\n",
       "      <td>0.000000</td>\n",
       "      <td>0.000000</td>\n",
       "      <td>0.000000e+00</td>\n",
       "    </tr>\n",
       "    <tr>\n",
       "      <th>75%</th>\n",
       "      <td>4.000000</td>\n",
       "      <td>1.000000</td>\n",
       "      <td>1.000000</td>\n",
       "      <td>71.000000</td>\n",
       "      <td>1.000000</td>\n",
       "      <td>0.000000</td>\n",
       "      <td>0.000000e+00</td>\n",
       "    </tr>\n",
       "    <tr>\n",
       "      <th>max</th>\n",
       "      <td>386.000000</td>\n",
       "      <td>1.000000</td>\n",
       "      <td>98.000000</td>\n",
       "      <td>11186.000000</td>\n",
       "      <td>1.000000</td>\n",
       "      <td>12.000000</td>\n",
       "      <td>3.325712e+09</td>\n",
       "    </tr>\n",
       "  </tbody>\n",
       "</table>\n",
       "</div>"
      ],
      "text/plain": [
       "              TARGET            new        quality       duration  \\\n",
       "count  252289.000000  252289.000000  252289.000000  252289.000000   \n",
       "mean        3.592626       0.751955       3.816805     113.104253   \n",
       "std         5.509465       0.431879      11.091028     330.876019   \n",
       "min         1.000000       0.000000       1.000000       0.000000   \n",
       "25%         1.000000       1.000000       1.000000       0.000000   \n",
       "50%         2.000000       1.000000       1.000000       3.000000   \n",
       "75%         4.000000       1.000000       1.000000      71.000000   \n",
       "max       386.000000       1.000000      98.000000   11186.000000   \n",
       "\n",
       "             bounced    transaction  transaction_revenue  \n",
       "count  252289.000000  252289.000000         2.522890e+05  \n",
       "mean        0.493672       0.009033         9.061248e+05  \n",
       "std         0.499961       0.100938         2.127689e+07  \n",
       "min         0.000000       0.000000         0.000000e+00  \n",
       "25%         0.000000       0.000000         0.000000e+00  \n",
       "50%         0.000000       0.000000         0.000000e+00  \n",
       "75%         1.000000       0.000000         0.000000e+00  \n",
       "max         1.000000      12.000000         3.325712e+09  "
      ]
     },
     "execution_count": 5,
     "metadata": {},
     "output_type": "execute_result"
    }
   ],
   "source": [
    "df.describe()"
   ]
  },
  {
   "cell_type": "code",
   "execution_count": null,
   "id": "c0b4bd0a",
   "metadata": {},
   "outputs": [],
   "source": [
    "np.std"
   ]
  }
 ],
 "metadata": {
  "kernelspec": {
   "display_name": "Python 3 (ipykernel)",
   "language": "python",
   "name": "python3"
  },
  "language_info": {
   "codemirror_mode": {
    "name": "ipython",
    "version": 3
   },
   "file_extension": ".py",
   "mimetype": "text/x-python",
   "name": "python",
   "nbconvert_exporter": "python",
   "pygments_lexer": "ipython3",
   "version": "3.11.4"
  }
 },
 "nbformat": 4,
 "nbformat_minor": 5
}
